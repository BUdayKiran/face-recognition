{
 "cells": [
  {
   "cell_type": "code",
   "execution_count": null,
   "id": "db1b2a1d",
   "metadata": {},
   "outputs": [],
   "source": [
    "%%cmd\n",
    "pip install pandas"
   ]
  },
  {
   "cell_type": "code",
   "execution_count": null,
   "id": "e5636fcf",
   "metadata": {},
   "outputs": [],
   "source": [
    "%%cmd\n",
    "pip install face-recognition"
   ]
  },
  {
   "cell_type": "code",
   "execution_count": null,
   "id": "f4a7ca99",
   "metadata": {},
   "outputs": [],
   "source": [
    "%%cmd\n",
    "pip install cmake"
   ]
  },
  {
   "cell_type": "code",
   "execution_count": null,
   "id": "1a292045",
   "metadata": {},
   "outputs": [],
   "source": [
    "%%cmd\n",
    "pip install \"C:\\Users\\uday\\Downloads\\Install-dlib-main\\Install-dlib-main\\dlib-19.22.99-cp39-cp39-win_amd64.whl\""
   ]
  },
  {
   "cell_type": "code",
   "execution_count": null,
   "id": "296914e9",
   "metadata": {},
   "outputs": [],
   "source": [
    "%%cmd\n",
    "pip install face-recognition"
   ]
  },
  {
   "cell_type": "code",
   "execution_count": null,
   "id": "c1c66e30",
   "metadata": {},
   "outputs": [],
   "source": [
    "import face_recognition as fr"
   ]
  },
  {
   "cell_type": "code",
   "execution_count": null,
   "id": "6cc12ca3",
   "metadata": {},
   "outputs": [],
   "source": [
    "from PIL import Image,ImageDraw"
   ]
  },
  {
   "cell_type": "code",
   "execution_count": null,
   "id": "ffc95056",
   "metadata": {},
   "outputs": [],
   "source": [
    "virat_image=fr.load_image_file(r\"C:\\Users\\uday\\Downloads\\ssvv.png\")\n",
    "virat_encoding=fr.face_encodings (virat_image)[0]"
   ]
  },
  {
   "cell_type": "code",
   "execution_count": null,
   "id": "327d6cfe",
   "metadata": {},
   "outputs": [],
   "source": [
    "known_encodings=[virat_encoding]\n",
    "known_names=[\"virat\"]"
   ]
  },
  {
   "cell_type": "code",
   "execution_count": null,
   "id": "cf6d58d1",
   "metadata": {},
   "outputs": [],
   "source": [
    "test_image=fr.load_image_file(r\"C:\\Users\\uday\\Downloads\\vigro.jpg\")"
   ]
  },
  {
   "cell_type": "code",
   "execution_count": null,
   "id": "d45ba2cd",
   "metadata": {},
   "outputs": [],
   "source": [
    "face_locations=fr.face_locations(test_image)\n",
    "face_encodings=fr.face_encodings(test_image,face_locations)"
   ]
  },
  {
   "cell_type": "markdown",
   "id": "60499699",
   "metadata": {},
   "source": []
  },
  {
   "cell_type": "code",
   "execution_count": null,
   "id": "3fc20fcf",
   "metadata": {},
   "outputs": [],
   "source": [
    "pil_image=Image.fromarray(test_image)\n",
    "draw=ImageDraw.Draw(pil_image)\n",
    "for (top, right, bottom, left), face_encoding in zip(face_locations, face_encodings):\n",
    "    matches=fr.compare_faces(known_encodings, face_encoding,0.4)\n",
    "\n",
    "    name=\"Unknown\"\n",
    "\n",
    "    if True in matches:\n",
    "        first_match_index=matches.index (True)\n",
    "        name=known_names[first_match_index]\n",
    "        draw.rectangle(((left,top),(right,bottom)),outline=(0,0,0))\n",
    "        text_width, text_height=draw.textsize (name)\n",
    "        draw.rectangle(((left, bottom-text_height-10), (right, bottom)),outline=(0,0,0))\n",
    "        draw.text ((left+6, bottom-text_height-5), name, fill=(255,255,255,255))\n",
    "        \n",
    "\n",
    "pil_image.show()\n",
    "\n",
    "pil_image.save(\"output.jpeg\")"
   ]
  },
  {
   "cell_type": "markdown",
   "id": "f586b535",
   "metadata": {},
   "source": []
  },
  {
   "cell_type": "code",
   "execution_count": null,
   "id": "57885503",
   "metadata": {},
   "outputs": [],
   "source": [
    "import face_recognition\n",
    "from PIL import Image, ImageDraw\n",
    "\n",
    "# Load the single photo and the group photo\n",
    "single_photo = face_recognition.load_image_file(r\"C:\\Users\\uday\\Downloads\\ssvv.png\")\n",
    "group_photo = face_recognition.load_image_file(r\"C:\\Users\\uday\\Downloads\\vigro.jpg\")\n",
    "\n",
    "# Compute the face encodings for both photos\n",
    "single_photo_encodings = face_recognition.face_encodings(single_photo)\n",
    "group_photo_encodings = face_recognition.face_encodings(group_photo)\n",
    "\n",
    "# Compare the face encodings to find the most similar match\n",
    "best_match_index = -1\n",
    "best_match_distance = 1.0  # initialize with maximum possible distance\n",
    "\n",
    "for i in range(len(group_photo_encodings)):\n",
    "    distance = face_recognition.face_distance([single_photo_encodings[0]], group_photo_encodings[i])[0]\n",
    "    if distance < best_match_distance:\n",
    "        best_match_distance = distance\n",
    "        best_match_index = i\n",
    "\n",
    "# Extract and save the best match face from the group photo\n",
    "if best_match_index != -1:\n",
    "    (top, right, bottom, left) = face_recognition.face_locations(group_photo)[best_match_index]\n",
    "    best_match_face = group_photo[top:bottom, left:right]\n",
    "    \n",
    "    # Save the cropped face as a separate image file\n",
    "    cropped_image = Image.fromarray(best_match_face)\n",
    "    cropped_image.save(\"detected_face.jpg\")\n",
    "    \n",
    "    # Draw a rectangle around the detected face in the group photo\n",
    "    draw = ImageDraw.Draw(Image.fromarray(group_photo))\n",
    "    draw.rectangle(((left, top), (right, bottom)), outline=(0, 0, 255), width=2)\n",
    "    \n",
    "    # Save the marked-up group photo as a separate image file\n",
    "    Image.fromarray(group_photo).save(\"group_photo_marked.jpg\")\n",
    "      \n",
    "    # Show the detected face image and the marked-up group photo\n",
    "    cropped_image.show()\n",
    "    Image.fromarray(group_photo).show()\n",
    "else:\n",
    "    print(\"No matching face found in group photo\")"
   ]
  },
  {
   "cell_type": "markdown",
   "id": "57e53cf0",
   "metadata": {},
   "source": []
  },
  {
   "cell_type": "code",
   "execution_count": null,
   "id": "a692e6f8",
   "metadata": {},
   "outputs": [],
   "source": [
    "import face_recognition\n",
    "\n",
    "# Load the cropped face and the original single photo\n",
    "cropped_face = face_recognition.load_image_file(\"group_photo_marked.jpg\")\n",
    "single_photo = face_recognition.load_image_file(r\"C:\\Users\\uday\\Downloads\\ssvv.png\")\n",
    "\n",
    "# Compute the face encodings for both photos\n",
    "cropped_face_encodings = face_recognition.face_encodings(cropped_face)\n",
    "single_photo_encodings = face_recognition.face_encodings(single_photo)\n",
    "\n",
    "# Compare the face encodings to find the similarity percentage\n",
    "face_distances = face_recognition.face_distance(single_photo_encodings, cropped_face_encodings[0])\n",
    "similarity_percentage = 100 - (face_distances[0] * 100)\n",
    "\n",
    "# Print the similarity percentage\n",
    "#print(\"The similarity percentage between the single photo face and the cropped face is: \", similarity_percentage, \"%\")\n",
    "\n",
    "\n",
    "if similarity_percentage>40:\n",
    "    print(\"correct face ID\")\n",
    "else:\n",
    "    print(\"Incorrect face ID\")"
   ]
  },
  {
   "cell_type": "markdown",
   "id": "aacc2242",
   "metadata": {},
   "source": [
    "correct face ID"
   ]
  }
 ],
 "metadata": {
  "kernelspec": {
   "display_name": "Python 3 (ipykernel)",
   "language": "python",
   "name": "python3"
  },
  "language_info": {
   "codemirror_mode": {
    "name": "ipython",
    "version": 3
   },
   "file_extension": ".py",
   "mimetype": "text/x-python",
   "name": "python",
   "nbconvert_exporter": "python",
   "pygments_lexer": "ipython3",
   "version": "3.9.13"
  }
 },
 "nbformat": 4,
 "nbformat_minor": 5
}
